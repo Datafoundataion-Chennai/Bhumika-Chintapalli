{
 "cells": [
  {
   "cell_type": "code",
   "execution_count": null,
   "id": "da3233ee-8c21-4905-861e-cb11d9d5cc46",
   "metadata": {},
   "outputs": [],
   "source": [
    "class Character:\n",
    "    def __init__(self,name,health,attack_power,defense,speed):\n",
    "        self.name=name\n",
    "        self.health=health\n",
    "        self.attack_power=attack_power\n",
    "        self.defense=defense\n",
    "        self.speed=speed\n",
    "\n",
    "    def attack(target):\n",
    "        pass\n",
    "    def take_damage(amount):\n",
    "        pass\n",
    "\n",
    "    def is_alive():\n",
    "        pass\n",
    "\n",
    "class Warrior(Character):\n",
    "    def __int__(self,rage):\n",
    "        self.rage=rage\n",
    "        if health<30:\n",
    "            attack_power*=2\n",
    "\n",
    "class Mage(Characater):\n",
    "    def __init__(self,mana):\n",
    "        self.mana=mana\n",
    "\n",
    "class Archer(self,critical_chance):\n",
    "    self.critical_chance=critical_chance\n",
    "\n",
    "\n",
    "if charcater.speed is higher:\n",
    "\n",
    "\n",
    "def damage_calculation():\n",
    "    Final_damage=attack_power-target_defencs\n",
    "\n",
    "    if character_health<0:\n",
    "        print(\"defeated\")\n",
    "\n",
    "    if character==1:\n",
    "        print(\"battle ended\")\n",
    "\n",
    "        \n",
    "    "
   ]
  }
 ],
 "metadata": {
  "kernelspec": {
   "display_name": "Python 3 (ipykernel)",
   "language": "python",
   "name": "python3"
  },
  "language_info": {
   "codemirror_mode": {
    "name": "ipython",
    "version": 3
   },
   "file_extension": ".py",
   "mimetype": "text/x-python",
   "name": "python",
   "nbconvert_exporter": "python",
   "pygments_lexer": "ipython3",
   "version": "3.12.7"
  }
 },
 "nbformat": 4,
 "nbformat_minor": 5
}
